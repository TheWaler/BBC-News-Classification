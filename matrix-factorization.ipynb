{
 "cells": [
  {
   "cell_type": "markdown",
   "id": "1587fe7e",
   "metadata": {
    "_cell_guid": "b1076dfc-b9ad-4769-8c92-a6c4dae69d19",
    "_uuid": "8f2839f25d086af736a60e9eeb907d3b93b6e0e5",
    "papermill": {
     "duration": 0.004749,
     "end_time": "2025-05-28T11:41:54.408509",
     "exception": false,
     "start_time": "2025-05-28T11:41:54.403760",
     "status": "completed"
    },
    "tags": []
   },
   "source": [
    "# BBC News Classification Mini‑Project  \n",
    "**Kaggle Competition**: [BBC News Classification](https://www.kaggle.com/c/learn-ai-bbc)  \n",
    "\n",
    "---\n",
    "\n",
    "**Purpose**\n",
    "> Train a model to classify news articles into different categories using matrix factorization.\n",
    "\n",
    "**Data**\n",
    "> 2225 BBC articles labelled into 5 categories. While the labels won't be needed for the unsupervised approach that forms the base of this notebook, it'll be useful at the end when comparing the results to a supervised approach."
   ]
  },
  {
   "cell_type": "markdown",
   "id": "76aa482a",
   "metadata": {
    "papermill": {
     "duration": 0.003509,
     "end_time": "2025-05-28T11:41:54.415983",
     "exception": false,
     "start_time": "2025-05-28T11:41:54.412474",
     "status": "completed"
    },
    "tags": []
   },
   "source": [
    "## 1. Setup & Data Loading"
   ]
  },
  {
   "cell_type": "code",
   "execution_count": 1,
   "id": "a922f627",
   "metadata": {
    "execution": {
     "iopub.execute_input": "2025-05-28T11:41:54.424701Z",
     "iopub.status.busy": "2025-05-28T11:41:54.424393Z",
     "iopub.status.idle": "2025-05-28T11:41:56.486576Z",
     "shell.execute_reply": "2025-05-28T11:41:56.485529Z"
    },
    "papermill": {
     "duration": 2.068408,
     "end_time": "2025-05-28T11:41:56.488152",
     "exception": false,
     "start_time": "2025-05-28T11:41:54.419744",
     "status": "completed"
    },
    "tags": []
   },
   "outputs": [
    {
     "name": "stdout",
     "output_type": "stream",
     "text": [
      "(1490, 3) (735, 2)\n"
     ]
    },
    {
     "data": {
      "text/html": [
       "<div>\n",
       "<style scoped>\n",
       "    .dataframe tbody tr th:only-of-type {\n",
       "        vertical-align: middle;\n",
       "    }\n",
       "\n",
       "    .dataframe tbody tr th {\n",
       "        vertical-align: top;\n",
       "    }\n",
       "\n",
       "    .dataframe thead th {\n",
       "        text-align: right;\n",
       "    }\n",
       "</style>\n",
       "<table border=\"1\" class=\"dataframe\">\n",
       "  <thead>\n",
       "    <tr style=\"text-align: right;\">\n",
       "      <th></th>\n",
       "      <th>ArticleId</th>\n",
       "      <th>Text</th>\n",
       "      <th>Category</th>\n",
       "    </tr>\n",
       "  </thead>\n",
       "  <tbody>\n",
       "    <tr>\n",
       "      <th>0</th>\n",
       "      <td>1833</td>\n",
       "      <td>worldcom ex-boss launches defence lawyers defe...</td>\n",
       "      <td>business</td>\n",
       "    </tr>\n",
       "    <tr>\n",
       "      <th>1</th>\n",
       "      <td>154</td>\n",
       "      <td>german business confidence slides german busin...</td>\n",
       "      <td>business</td>\n",
       "    </tr>\n",
       "    <tr>\n",
       "      <th>2</th>\n",
       "      <td>1101</td>\n",
       "      <td>bbc poll indicates economic gloom citizens in ...</td>\n",
       "      <td>business</td>\n",
       "    </tr>\n",
       "    <tr>\n",
       "      <th>3</th>\n",
       "      <td>1976</td>\n",
       "      <td>lifestyle  governs mobile choice  faster  bett...</td>\n",
       "      <td>tech</td>\n",
       "    </tr>\n",
       "    <tr>\n",
       "      <th>4</th>\n",
       "      <td>917</td>\n",
       "      <td>enron bosses in $168m payout eighteen former e...</td>\n",
       "      <td>business</td>\n",
       "    </tr>\n",
       "  </tbody>\n",
       "</table>\n",
       "</div>"
      ],
      "text/plain": [
       "   ArticleId                                               Text  Category\n",
       "0       1833  worldcom ex-boss launches defence lawyers defe...  business\n",
       "1        154  german business confidence slides german busin...  business\n",
       "2       1101  bbc poll indicates economic gloom citizens in ...  business\n",
       "3       1976  lifestyle  governs mobile choice  faster  bett...      tech\n",
       "4        917  enron bosses in $168m payout eighteen former e...  business"
      ]
     },
     "execution_count": 1,
     "metadata": {},
     "output_type": "execute_result"
    }
   ],
   "source": [
    "import pandas as pd\n",
    "import numpy as np\n",
    "import matplotlib.pyplot as plt\n",
    "from pathlib import Path\n",
    "\n",
    "# Paths match the Kaggle file‑system\n",
    "DATA_DIR = Path('/kaggle/input/learn-ai-bbc')\n",
    "train_df = pd.read_csv(DATA_DIR/'BBC News Train.csv')\n",
    "test_df  = pd.read_csv(DATA_DIR/'BBC News Test.csv')\n",
    "\n",
    "print(train_df.shape, test_df.shape)\n",
    "train_df.head()"
   ]
  },
  {
   "cell_type": "markdown",
   "id": "5f15a326",
   "metadata": {
    "papermill": {
     "duration": 0.003799,
     "end_time": "2025-05-28T11:41:56.496026",
     "exception": false,
     "start_time": "2025-05-28T11:41:56.492227",
     "status": "completed"
    },
    "tags": []
   },
   "source": [
    "## 2. Exploratory Data Analysis"
   ]
  },
  {
   "cell_type": "code",
   "execution_count": 2,
   "id": "b2e8917a",
   "metadata": {
    "execution": {
     "iopub.execute_input": "2025-05-28T11:41:56.505001Z",
     "iopub.status.busy": "2025-05-28T11:41:56.504456Z",
     "iopub.status.idle": "2025-05-28T11:41:57.123849Z",
     "shell.execute_reply": "2025-05-28T11:41:57.122941Z"
    },
    "papermill": {
     "duration": 0.62564,
     "end_time": "2025-05-28T11:41:57.125413",
     "exception": false,
     "start_time": "2025-05-28T11:41:56.499773",
     "status": "completed"
    },
    "tags": []
   },
   "outputs": [
    {
     "data": {
      "image/png": "[encoded data removed]",
      "text/plain": [
       "<Figure size 640x480 with 1 Axes>"
      ]
     },
     "metadata": {},
     "output_type": "display_data"
    },
    {
     "data": {
      "image/png": "[encoded data removed]",
      "text/plain": [
       "<Figure size 640x480 with 1 Axes>"
      ]
     },
     "metadata": {},
     "output_type": "display_data"
    }
   ],
   "source": [
    "# Category distribution\n",
    "cat_counts = train_df['Category'].value_counts().sort_index()\n",
    "cat_counts.plot(kind='bar', rot=45)\n",
    "plt.title('Category distribution in training set')\n",
    "plt.xlabel('Category')\n",
    "plt.ylabel('Count')\n",
    "plt.show()\n",
    "\n",
    "# Article length distribution\n",
    "train_df['len'] = train_df['Text'].str.split().apply(len)\n",
    "train_df['len'].hist(bins=40)\n",
    "plt.title('Article length distribution')\n",
    "plt.xlabel('Character count')\n",
    "plt.ylabel('Frequency')\n",
    "plt.show()"
   ]
  },
  {
   "cell_type": "code",
   "execution_count": 3,
   "id": "2839c479",
   "metadata": {
    "execution": {
     "iopub.execute_input": "2025-05-28T11:41:57.137305Z",
     "iopub.status.busy": "2025-05-28T11:41:57.136639Z",
     "iopub.status.idle": "2025-05-28T11:41:57.143983Z",
     "shell.execute_reply": "2025-05-28T11:41:57.143021Z"
    },
    "papermill": {
     "duration": 0.014724,
     "end_time": "2025-05-28T11:41:57.145462",
     "exception": false,
     "start_time": "2025-05-28T11:41:57.130738",
     "status": "completed"
    },
    "tags": []
   },
   "outputs": [
    {
     "name": "stdout",
     "output_type": "stream",
     "text": [
      "Number of duplicated articles: 50\n"
     ]
    }
   ],
   "source": [
    "dup_text_count = train_df.duplicated(subset=['Text']).sum()\n",
    "print(f'Number of duplicated articles: {dup_text_count}')"
   ]
  },
  {
   "cell_type": "markdown",
   "id": "26344a3f",
   "metadata": {
    "papermill": {
     "duration": 0.004885,
     "end_time": "2025-05-28T11:41:57.155380",
     "exception": false,
     "start_time": "2025-05-28T11:41:57.150495",
     "status": "completed"
    },
    "tags": []
   },
   "source": [
    "**Observations**\n",
    "\n",
    "* The dataset is moderately balanced across the 5 categories. A bit more sports and business than the other categories, but not significantly so.\n",
    "* Most articles are under ~500 characters, with a long tail of lengthier reports.\n",
    "* There are some duplicated articles in the dataset.\n",
    "\n",
    "**Cleaning decisions**\n",
    "\n",
    "To reduce noise and get rough normalisation, we'll: \n",
    "* Lower‑case the text\n",
    "* Strip punctuation\n",
    "* Remove English stop‑words.\n",
    "* We'll drop the duplicated articles\n"
   ]
  },
  {
   "cell_type": "markdown",
   "id": "d51e8ace",
   "metadata": {
    "papermill": {
     "duration": 0.004677,
     "end_time": "2025-05-28T11:41:57.164947",
     "exception": false,
     "start_time": "2025-05-28T11:41:57.160270",
     "status": "completed"
    },
    "tags": []
   },
   "source": [
    "## 3. Feature Engineering — TF‑IDF\n",
    "TF‑IDF converts each document into a sparse vector where a token’s weight increases with its frequency in that document but decreases with its prevalence across the corpus.\n",
    "We vectorise both **train** and **test** texts **separately** to avoid information leaking from test data during unsupervised training."
   ]
  },
  {
   "cell_type": "code",
   "execution_count": 4,
   "id": "a4ce078a",
   "metadata": {
    "execution": {
     "iopub.execute_input": "2025-05-28T11:41:57.176109Z",
     "iopub.status.busy": "2025-05-28T11:41:57.175776Z",
     "iopub.status.idle": "2025-05-28T11:41:59.246741Z",
     "shell.execute_reply": "2025-05-28T11:41:59.245532Z"
    },
    "papermill": {
     "duration": 2.078426,
     "end_time": "2025-05-28T11:41:59.248301",
     "exception": false,
     "start_time": "2025-05-28T11:41:57.169875",
     "status": "completed"
    },
    "tags": []
   },
   "outputs": [
    {
     "name": "stdout",
     "output_type": "stream",
     "text": [
      "(1440, 6944) (735, 6944)\n"
     ]
    }
   ],
   "source": [
    "from sklearn.feature_extraction.text import TfidfVectorizer\n",
    "\n",
    "tfidf = TfidfVectorizer(lowercase=True,\n",
    "                        stop_words='english',\n",
    "                        min_df=5,\n",
    "                        max_df=0.9,\n",
    "                        sublinear_tf=True)\n",
    "\n",
    "train_df = train_df.drop_duplicates(subset=['Text'])\n",
    "X_train = tfidf.fit_transform(train_df['Text'])\n",
    "X_test  = tfidf.transform(test_df['Text'])\n",
    "\n",
    "print(X_train.shape, X_test.shape)"
   ]
  },
  {
   "cell_type": "markdown",
   "id": "170f0eb5",
   "metadata": {
    "papermill": {
     "duration": 0.005725,
     "end_time": "2025-05-28T11:41:59.260383",
     "exception": false,
     "start_time": "2025-05-28T11:41:59.254658",
     "status": "completed"
    },
    "tags": []
   },
   "source": [
    "## 4. Unsupervised Matrix Factorisation\n",
    "We apply **Non‑negative Matrix Factorisation (NMF)**."
   ]
  },
  {
   "cell_type": "code",
   "execution_count": 5,
   "id": "62bfaa0d",
   "metadata": {
    "execution": {
     "iopub.execute_input": "2025-05-28T11:41:59.271978Z",
     "iopub.status.busy": "2025-05-28T11:41:59.271540Z",
     "iopub.status.idle": "2025-05-28T11:42:01.256352Z",
     "shell.execute_reply": "2025-05-28T11:42:01.255209Z"
    },
    "papermill": {
     "duration": 1.992293,
     "end_time": "2025-05-28T11:42:01.257946",
     "exception": false,
     "start_time": "2025-05-28T11:41:59.265653",
     "status": "completed"
    },
    "tags": []
   },
   "outputs": [
    {
     "name": "stdout",
     "output_type": "stream",
     "text": [
      "Training accuracy (unsupervised NMF => majority topic label): 0.925\n"
     ]
    }
   ],
   "source": [
    "from sklearn.decomposition import NMF\n",
    "from sklearn.preprocessing import normalize\n",
    "from sklearn.metrics import accuracy_score, confusion_matrix\n",
    "import seaborn as sns\n",
    "\n",
    "k = 20  # latent topics\n",
    "nmf = NMF(n_components=k, init='nndsvd', random_state=0, max_iter=300)\n",
    "W_train = nmf.fit_transform(X_train)\n",
    "W_test  = nmf.transform(X_test)\n",
    "\n",
    "# Map each topic to the most common label in training data\n",
    "topic_labels = {}\n",
    "topic_assign = W_train.argmax(axis=1)\n",
    "for t in range(k):\n",
    "    labels_in_topic = train_df.loc[topic_assign == t, 'Category']\n",
    "    if len(labels_in_topic):\n",
    "        topic_labels[t] = labels_in_topic.mode().iat[0]\n",
    "    else:\n",
    "        topic_labels[t] = 'uncertain'\n",
    "\n",
    "train_pred = pd.Series(topic_assign).map(topic_labels)\n",
    "train_acc = accuracy_score(train_df['Category'], train_pred)\n",
    "print(f'Training accuracy (unsupervised NMF => majority topic label): {train_acc:.3f}')"
   ]
  },
  {
   "cell_type": "code",
   "execution_count": 6,
   "id": "47a1171c",
   "metadata": {
    "execution": {
     "iopub.execute_input": "2025-05-28T11:42:01.270111Z",
     "iopub.status.busy": "2025-05-28T11:42:01.269582Z",
     "iopub.status.idle": "2025-05-28T11:42:01.528537Z",
     "shell.execute_reply": "2025-05-28T11:42:01.527586Z"
    },
    "papermill": {
     "duration": 0.266786,
     "end_time": "2025-05-28T11:42:01.530127",
     "exception": false,
     "start_time": "2025-05-28T11:42:01.263341",
     "status": "completed"
    },
    "tags": []
   },
   "outputs": [
    {
     "data": {
      "image/png": "[encoded data removed]",
      "text/plain": [
       "<Figure size 640x480 with 2 Axes>"
      ]
     },
     "metadata": {},
     "output_type": "display_data"
    }
   ],
   "source": [
    "cm = confusion_matrix(train_df['Category'], train_pred, labels=sorted(train_df['Category'].unique()))\n",
    "sns.heatmap(cm, annot=True, fmt='d', xticklabels=sorted(train_df['Category'].unique()),\n",
    "            yticklabels=sorted(train_df['Category'].unique()))\n",
    "plt.title('Confusion Matrix – Unsupervised NMF')\n",
    "plt.ylabel('True')\n",
    "plt.xlabel('Predicted')\n",
    "plt.show()"
   ]
  },
  {
   "cell_type": "markdown",
   "id": "4fb850bf",
   "metadata": {
    "papermill": {
     "duration": 0.005481,
     "end_time": "2025-05-28T11:42:01.541598",
     "exception": false,
     "start_time": "2025-05-28T11:42:01.536117",
     "status": "completed"
    },
    "tags": []
   },
   "source": [
    "## 5. Hyper‑parameter Study"
   ]
  },
  {
   "cell_type": "code",
   "execution_count": 7,
   "id": "4874fa14",
   "metadata": {
    "execution": {
     "iopub.execute_input": "2025-05-28T11:42:01.555196Z",
     "iopub.status.busy": "2025-05-28T11:42:01.554851Z",
     "iopub.status.idle": "2025-05-28T11:42:34.007293Z",
     "shell.execute_reply": "2025-05-28T11:42:34.006495Z"
    },
    "papermill": {
     "duration": 32.461182,
     "end_time": "2025-05-28T11:42:34.008846",
     "exception": false,
     "start_time": "2025-05-28T11:42:01.547664",
     "status": "completed"
    },
    "tags": []
   },
   "outputs": [
    {
     "name": "stdout",
     "output_type": "stream",
     "text": [
      "Found new best parameters!\n",
      "New best accuracy: 0.2375\n",
      "New best k val: 1\n",
      "New best l1 ratio: 0.001\n",
      "Found new best parameters!\n",
      "New best accuracy: 0.46875\n",
      "New best k val: 2\n",
      "New best l1 ratio: 0.001\n",
      "Found new best parameters!\n",
      "New best accuracy: 0.6354166666666666\n",
      "New best k val: 3\n",
      "New best l1 ratio: 0.001\n",
      "Found new best parameters!\n",
      "New best accuracy: 0.8027777777777778\n",
      "New best k val: 4\n",
      "New best l1 ratio: 0.001\n",
      "Found new best parameters!\n",
      "New best accuracy: 0.95\n",
      "New best k val: 5\n",
      "New best l1 ratio: 0.001\n"
     ]
    }
   ],
   "source": [
    "results = []\n",
    "best_acc = -1\n",
    "best_k = 0\n",
    "best_l1 = 0\n",
    "best_nmf = {}\n",
    "\n",
    "for k in range(1,10):\n",
    "    for l1_ratio in [0.001, 0.01, 0.1, 0.2, 0.3, 0.4, 0.5, 0.6, 0.7, 0.8, 0.9, 0.99, 1]:\n",
    "        nmf = NMF(n_components=k, init='nndsvd', random_state=0, max_iter=300, l1_ratio = l1_ratio)\n",
    "        W_train = nmf.fit_transform(X_train)\n",
    "        topic_assign = W_train.argmax(axis=1)\n",
    "        topic_labels = {t: train_df.loc[topic_assign == t, 'Category'].mode().iat[0]\n",
    "                        if any(topic_assign == t) else 'uncertain'\n",
    "                        for t in range(k)}\n",
    "        preds = pd.Series(topic_assign).map(topic_labels)\n",
    "        acc = accuracy_score(train_df['Category'], preds)\n",
    "        results.append((k, l1_ratio, acc))\n",
    "        if acc > best_acc:\n",
    "            print('Found new best parameters!')\n",
    "            best_acc = acc\n",
    "            print(f'New best accuracy: {best_acc}')\n",
    "            best_k = k\n",
    "            print(f'New best k val: {best_k}')\n",
    "            best_l1 = l1_ratio\n",
    "            print(f'New best l1 ratio: {best_l1}')\n",
    "            best_nmf = nmf\n",
    "\n",
    "res = pd.DataFrame(results, columns=['n_topics', 'l1_ratio', 'train_acc'])"
   ]
  },
  {
   "cell_type": "code",
   "execution_count": 8,
   "id": "ddcf947b",
   "metadata": {
    "execution": {
     "iopub.execute_input": "2025-05-28T11:42:34.023553Z",
     "iopub.status.busy": "2025-05-28T11:42:34.022753Z",
     "iopub.status.idle": "2025-05-28T11:42:34.201319Z",
     "shell.execute_reply": "2025-05-28T11:42:34.200395Z"
    },
    "papermill": {
     "duration": 0.187164,
     "end_time": "2025-05-28T11:42:34.203010",
     "exception": false,
     "start_time": "2025-05-28T11:42:34.015846",
     "status": "completed"
    },
    "tags": []
   },
   "outputs": [
    {
     "data": {
      "image/png": "[encoded data removed]",
      "text/plain": [
       "<Figure size 640x480 with 1 Axes>"
      ]
     },
     "metadata": {},
     "output_type": "display_data"
    },
    {
     "name": "stdout",
     "output_type": "stream",
     "text": [
      "Best l1 ratio: 0.001\n"
     ]
    }
   ],
   "source": [
    "plt.plot(res['n_topics'], res['train_acc'], label='Training Accuracy', marker='o', linestyle='-')\n",
    "plt.title('NMF Model Accuracy vs. Number of Latent Topics')\n",
    "plt.xlabel('Number of Topics (k)')\n",
    "plt.ylabel('Accuracy')\n",
    "plt.show()\n",
    "\n",
    "print(f'Best l1 ratio: {best_l1}')"
   ]
  },
  {
   "cell_type": "markdown",
   "id": "e468bca6",
   "metadata": {
    "papermill": {
     "duration": 0.006572,
     "end_time": "2025-05-28T11:42:34.216489",
     "exception": false,
     "start_time": "2025-05-28T11:42:34.209917",
     "status": "completed"
    },
    "tags": []
   },
   "source": [
    "As we can see, there isn't much improvement post k=5 (steady, slowly declining state). Setting different l1 ratio didn't change the accuracy at all."
   ]
  },
  {
   "cell_type": "markdown",
   "id": "112b8e4e",
   "metadata": {
    "papermill": {
     "duration": 0.00643,
     "end_time": "2025-05-28T11:42:34.229704",
     "exception": false,
     "start_time": "2025-05-28T11:42:34.223274",
     "status": "completed"
    },
    "tags": []
   },
   "source": [
    "### Generating submission using the best values found"
   ]
  },
  {
   "cell_type": "code",
   "execution_count": 9,
   "id": "791f3dcb",
   "metadata": {
    "execution": {
     "iopub.execute_input": "2025-05-28T11:42:34.244382Z",
     "iopub.status.busy": "2025-05-28T11:42:34.243743Z",
     "iopub.status.idle": "2025-05-28T11:42:34.266409Z",
     "shell.execute_reply": "2025-05-28T11:42:34.265529Z"
    },
    "papermill": {
     "duration": 0.031596,
     "end_time": "2025-05-28T11:42:34.267869",
     "exception": false,
     "start_time": "2025-05-28T11:42:34.236273",
     "status": "completed"
    },
    "tags": []
   },
   "outputs": [
    {
     "data": {
      "text/html": [
       "<div>\n",
       "<style scoped>\n",
       "    .dataframe tbody tr th:only-of-type {\n",
       "        vertical-align: middle;\n",
       "    }\n",
       "\n",
       "    .dataframe tbody tr th {\n",
       "        vertical-align: top;\n",
       "    }\n",
       "\n",
       "    .dataframe thead th {\n",
       "        text-align: right;\n",
       "    }\n",
       "</style>\n",
       "<table border=\"1\" class=\"dataframe\">\n",
       "  <thead>\n",
       "    <tr style=\"text-align: right;\">\n",
       "      <th></th>\n",
       "      <th>ArticleId</th>\n",
       "      <th>Category</th>\n",
       "    </tr>\n",
       "  </thead>\n",
       "  <tbody>\n",
       "    <tr>\n",
       "      <th>0</th>\n",
       "      <td>1018</td>\n",
       "      <td>sport</td>\n",
       "    </tr>\n",
       "    <tr>\n",
       "      <th>1</th>\n",
       "      <td>1319</td>\n",
       "      <td>tech</td>\n",
       "    </tr>\n",
       "    <tr>\n",
       "      <th>2</th>\n",
       "      <td>1138</td>\n",
       "      <td>sport</td>\n",
       "    </tr>\n",
       "    <tr>\n",
       "      <th>3</th>\n",
       "      <td>459</td>\n",
       "      <td>business</td>\n",
       "    </tr>\n",
       "    <tr>\n",
       "      <th>4</th>\n",
       "      <td>1020</td>\n",
       "      <td>sport</td>\n",
       "    </tr>\n",
       "  </tbody>\n",
       "</table>\n",
       "</div>"
      ],
      "text/plain": [
       "   ArticleId  Category\n",
       "0       1018     sport\n",
       "1       1319      tech\n",
       "2       1138     sport\n",
       "3        459  business\n",
       "4       1020     sport"
      ]
     },
     "execution_count": 9,
     "metadata": {},
     "output_type": "execute_result"
    }
   ],
   "source": [
    "# Predict topics for test documents and map to labels\n",
    "W_test  = best_nmf.transform(X_test)\n",
    "test_topics = W_test.argmax(axis=1)\n",
    "test_pred = pd.Series(test_topics).map(topic_labels)\n",
    "\n",
    "sub_df = pd.DataFrame({'ArticleId': test_df['ArticleId'], 'Category': test_pred})\n",
    "sub_df.to_csv('submission.csv', index=False)\n",
    "sub_df.head()"
   ]
  },
  {
   "cell_type": "markdown",
   "id": "19f60e3a",
   "metadata": {
    "papermill": {
     "duration": 0.00643,
     "end_time": "2025-05-28T11:42:34.281014",
     "exception": false,
     "start_time": "2025-05-28T11:42:34.274584",
     "status": "completed"
    },
    "tags": []
   },
   "source": [
    "## 6. Supervised Baseline"
   ]
  },
  {
   "cell_type": "code",
   "execution_count": 10,
   "id": "966421dc",
   "metadata": {
    "execution": {
     "iopub.execute_input": "2025-05-28T11:42:34.296063Z",
     "iopub.status.busy": "2025-05-28T11:42:34.295286Z",
     "iopub.status.idle": "2025-05-28T11:42:35.841393Z",
     "shell.execute_reply": "2025-05-28T11:42:35.840170Z"
    },
    "papermill": {
     "duration": 1.555206,
     "end_time": "2025-05-28T11:42:35.842870",
     "exception": false,
     "start_time": "2025-05-28T11:42:34.287664",
     "status": "completed"
    },
    "tags": []
   },
   "outputs": [
    {
     "name": "stdout",
     "output_type": "stream",
     "text": [
      "Training accuracy (LogReg): 0.997\n",
      "Validation accuracy (LogReg): 0.962\n"
     ]
    }
   ],
   "source": [
    "from sklearn.linear_model import LogisticRegression\n",
    "from sklearn.model_selection import train_test_split\n",
    "\n",
    "X_tr, X_val, y_tr, y_val = train_test_split(X_train, train_df['Category'], test_size=0.2,\n",
    "                                            random_state=42, stratify=train_df['Category'])\n",
    "\n",
    "clf = LogisticRegression(max_iter=2000, n_jobs=-1)\n",
    "clf.fit(X_tr, y_tr)\n",
    "\n",
    "tr_acc = clf.score(X_tr, y_tr)\n",
    "print(f'Training accuracy (LogReg): {tr_acc:.3f}')\n",
    "val_acc = clf.score(X_val, y_val)\n",
    "print(f'Validation accuracy (LogReg): {val_acc:.3f}')"
   ]
  },
  {
   "cell_type": "code",
   "execution_count": 11,
   "id": "ab7c373a",
   "metadata": {
    "execution": {
     "iopub.execute_input": "2025-05-28T11:42:35.858179Z",
     "iopub.status.busy": "2025-05-28T11:42:35.857838Z",
     "iopub.status.idle": "2025-05-28T11:42:39.083168Z",
     "shell.execute_reply": "2025-05-28T11:42:39.082141Z"
    },
    "papermill": {
     "duration": 3.23488,
     "end_time": "2025-05-28T11:42:39.084620",
     "exception": false,
     "start_time": "2025-05-28T11:42:35.849740",
     "status": "completed"
    },
    "tags": []
   },
   "outputs": [
    {
     "data": {
      "text/html": [
       "<div>\n",
       "<style scoped>\n",
       "    .dataframe tbody tr th:only-of-type {\n",
       "        vertical-align: middle;\n",
       "    }\n",
       "\n",
       "    .dataframe tbody tr th {\n",
       "        vertical-align: top;\n",
       "    }\n",
       "\n",
       "    .dataframe thead th {\n",
       "        text-align: right;\n",
       "    }\n",
       "</style>\n",
       "<table border=\"1\" class=\"dataframe\">\n",
       "  <thead>\n",
       "    <tr style=\"text-align: right;\">\n",
       "      <th></th>\n",
       "      <th>train_frac</th>\n",
       "      <th>train_set_acc</th>\n",
       "    </tr>\n",
       "  </thead>\n",
       "  <tbody>\n",
       "    <tr>\n",
       "      <th>0</th>\n",
       "      <td>0.1</td>\n",
       "      <td>0.931250</td>\n",
       "    </tr>\n",
       "    <tr>\n",
       "      <th>1</th>\n",
       "      <td>0.2</td>\n",
       "      <td>0.973611</td>\n",
       "    </tr>\n",
       "    <tr>\n",
       "      <th>2</th>\n",
       "      <td>0.5</td>\n",
       "      <td>0.984028</td>\n",
       "    </tr>\n",
       "    <tr>\n",
       "      <th>3</th>\n",
       "      <td>1.0</td>\n",
       "      <td>0.997222</td>\n",
       "    </tr>\n",
       "  </tbody>\n",
       "</table>\n",
       "</div>"
      ],
      "text/plain": [
       "   train_frac  train_set_acc\n",
       "0         0.1       0.931250\n",
       "1         0.2       0.973611\n",
       "2         0.5       0.984028\n",
       "3         1.0       0.997222"
      ]
     },
     "execution_count": 11,
     "metadata": {},
     "output_type": "execute_result"
    }
   ],
   "source": [
    "sizes = [0.1, 0.2, 0.5, 1.0]\n",
    "eff_results = []\n",
    "for frac in sizes:\n",
    "    subset = train_df.sample(frac=frac, random_state=0)\n",
    "    X_sub = tfidf.transform(subset['Text'])\n",
    "    clf = LogisticRegression(max_iter=2000, n_jobs=-1)\n",
    "    clf.fit(X_sub, subset['Category'])\n",
    "    eff_results.append((frac, clf.score(X_train, train_df['Category'])))\n",
    "\n",
    "pd.DataFrame(eff_results, columns=['train_frac', 'train_set_acc'])"
   ]
  },
  {
   "cell_type": "markdown",
   "id": "59163362",
   "metadata": {
    "papermill": {
     "duration": 0.007663,
     "end_time": "2025-05-28T11:42:39.100516",
     "exception": false,
     "start_time": "2025-05-28T11:42:39.092853",
     "status": "completed"
    },
    "tags": []
   },
   "source": [
    "## 7. Comparison & Discussion\n",
    "\n",
    "Overall, NMF performed surprisingly well in this project. On submission of our best NMF model, we got a leaderboard result of 0.93877 which is not bad. In terms of comparison to the supervised learning approach:\n",
    "\n",
    "* **Data‑efficiency** — With <20% labelled data the Logistic Regression (without any sort of tuning) already surpasses the best unsupervised NMF variant on the test data - which goes to show just how much more data efficient supervised learning can be. At the same time, the supervised learning approach needs the data to be labelled to work at all, which is significantly more expensive to procure in real-world contexts.\n",
    "* **Over‑fitting** — The unsupervised route cannot over‑fit labels by construction, but topic alignment may be brittle. The supervised model shows small signs of over‑fitting on validation accuracy: training accuracy is nearly perfect, while validation accuracy is a few percentage points below. Nevertheless, regularisation and feature pruning can be explored if this was the route we'd choose to go in."
   ]
  },
  {
   "cell_type": "code",
   "execution_count": null,
   "id": "ba1d31b5",
   "metadata": {
    "papermill": {
     "duration": 0.007797,
     "end_time": "2025-05-28T11:42:39.115956",
     "exception": false,
     "start_time": "2025-05-28T11:42:39.108159",
     "status": "completed"
    },
    "tags": []
   },
   "outputs": [],
   "source": []
  }
 ],
 "metadata": {
  "kaggle": {
   "accelerator": "none",
   "dataSources": [
    {
     "databundleVersionId": 324297,
     "sourceId": 13351,
     "sourceType": "competition"
    }
   ],
   "dockerImageVersionId": 31040,
   "isGpuEnabled": false,
   "isInternetEnabled": true,
   "language": "python",
   "sourceType": "notebook"
  },
  "kernelspec": {
   "display_name": "Python 3",
   "language": "python",
   "name": "python3"
  },
  "language_info": {
   "codemirror_mode": {
    "name": "ipython",
    "version": 3
   },
   "file_extension": ".py",
   "mimetype": "text/x-python",
   "name": "python",
   "nbconvert_exporter": "python",
   "pygments_lexer": "ipython3",
   "version": "3.11.11"
  },
  "papermill": {
   "default_parameters": {},
   "duration": 52.015388,
   "end_time": "2025-05-28T11:42:41.744636",
   "environment_variables": {},
   "exception": null,
   "input_path": "__notebook__.ipynb",
   "output_path": "__notebook__.ipynb",
   "parameters": {},
   "start_time": "2025-05-28T11:41:49.729248",
   "version": "2.6.0"
  }
 },
 "nbformat": 4,
 "nbformat_minor": 5
}
